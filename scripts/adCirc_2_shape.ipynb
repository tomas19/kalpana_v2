{
 "cells": [
  {
   "cell_type": "code",
   "execution_count": 1,
   "id": "5f4c9e3a",
   "metadata": {},
   "outputs": [],
   "source": [
    "### python modules\n",
    "\n",
    "import sys\n",
    "## github repository path, you will to change this line\n",
    "sys.path.append(r'C:\\Users\\tacuevas\\Documents\\GitHub\\kalpana_v2\\code')\n",
    "from kalpanaExport import nc2shp"
   ]
  },
  {
   "cell_type": "markdown",
   "id": "4122d9cb",
   "metadata": {},
   "source": [
    "# Inputs"
   ]
  },
  {
   "cell_type": "code",
   "execution_count": 6,
   "id": "7c68dda9",
   "metadata": {},
   "outputs": [],
   "source": [
    "## path of the adcirc output, in this case the file is time-varying\n",
    "nc1File = r'C:\\Users\\tacuevas\\NCSU\\Research\\kalpana\\Florence\\fort.63.nc'\n",
    "## name of the variable to analize\n",
    "var1 = 'zeta'\n",
    "## contours to extract\n",
    "levels1 = [0.0, 5.5, 0.5] ## start, stop and step. stop not included\n",
    "\n",
    "## idem above but in this case the file has only one timestep\n",
    "nc2File = r'C:\\Users\\tacuevas\\Documents\\GitHub\\Kalpana\\maxele.63.nc'\n",
    "var2 = 'zeta_max'\n",
    "levels2 = [0., 4.5, 0.5]\n",
    "\n",
    "## coordinate system of the adcirc file\n",
    "epsg = 4326"
   ]
  },
  {
   "cell_type": "markdown",
   "id": "7a1c1050",
   "metadata": {},
   "source": [
    "# Examples"
   ]
  },
  {
   "cell_type": "markdown",
   "id": "f5e70eee",
   "metadata": {},
   "source": [
    "This notebook comprise 8 examples. SWAN significant wave height and ADCIRC maximum water elevation outputs are exported as shapefiles in both, polyline and polygon formats."
   ]
  },
  {
   "cell_type": "markdown",
   "id": "c16873b6",
   "metadata": {},
   "source": [
    "## Lines"
   ]
  },
  {
   "cell_type": "markdown",
   "id": "eac0255b",
   "metadata": {},
   "source": [
    "### All Domain"
   ]
  },
  {
   "cell_type": "markdown",
   "id": "a3285503",
   "metadata": {},
   "source": [
    "#### Time-varying file"
   ]
  },
  {
   "cell_type": "code",
   "execution_count": 7,
   "id": "d7c97e94",
   "metadata": {},
   "outputs": [
    {
     "name": "stderr",
     "output_type": "stream",
     "text": [
      "100%|████████████████████████████████████████████████████████████████████████████████| 124/124 [02:03<00:00,  1.00it/s]\n",
      "C:\\Users\\tacuevas\\AppData\\Roaming\\Python\\Python39\\site-packages\\geopandas\\io\\file.py:362: FutureWarning: pandas.Int64Index is deprecated and will be removed from pandas in a future version. Use pandas.Index with the appropriate dtype instead.\n",
      "  pd.Int64Index,\n"
     ]
    }
   ],
   "source": [
    "pathOut = r'C:\\Users\\tacuevas\\NCSU\\Research\\kalpana\\py3\\debugging\\outputs\\lines_allDomain_timevarying.shp'\n",
    "gdf = nc2shp(nc1File, var1, levels1, 'polyline', epsg, pathOut)"
   ]
  },
  {
   "cell_type": "markdown",
   "id": "6e79389f",
   "metadata": {},
   "source": [
    "#### Time-constant"
   ]
  },
  {
   "cell_type": "code",
   "execution_count": 8,
   "id": "8aec750a",
   "metadata": {},
   "outputs": [
    {
     "name": "stderr",
     "output_type": "stream",
     "text": [
      "C:\\Users\\tacuevas\\AppData\\Roaming\\Python\\Python39\\site-packages\\geopandas\\io\\file.py:362: FutureWarning: pandas.Int64Index is deprecated and will be removed from pandas in a future version. Use pandas.Index with the appropriate dtype instead.\n",
      "  pd.Int64Index,\n"
     ]
    }
   ],
   "source": [
    "pathOut = r'C:\\Users\\tacuevas\\NCSU\\Research\\kalpana\\py3\\debugging\\outputs\\lines_allDomain_timeconstant.shp'\n",
    "gdf = nc2shp(nc2File, var2, levels2, 'polyline', epsg, pathOut)"
   ]
  },
  {
   "cell_type": "markdown",
   "id": "22df26e5",
   "metadata": {},
   "source": [
    "### Subset"
   ]
  },
  {
   "cell_type": "markdown",
   "id": "72a55d4d",
   "metadata": {},
   "source": [
    "#### Time-varying"
   ]
  },
  {
   "cell_type": "code",
   "execution_count": 9,
   "id": "544f6e83",
   "metadata": {},
   "outputs": [
    {
     "name": "stderr",
     "output_type": "stream",
     "text": [
      "100%|████████████████████████████████████████████████████████████████████████████████| 124/124 [02:24<00:00,  1.17s/it]\n",
      "C:\\Users\\tacuevas\\AppData\\Roaming\\Python\\Python39\\site-packages\\geopandas\\io\\file.py:362: FutureWarning: pandas.Int64Index is deprecated and will be removed from pandas in a future version. Use pandas.Index with the appropriate dtype instead.\n",
      "  pd.Int64Index,\n"
     ]
    }
   ],
   "source": [
    "subDomain = r'C:\\Users\\tacuevas\\Documents\\GitHub\\kalpana_v2\\inputFiles\\subDomain.kml'\n",
    "pathOut = r'C:\\Users\\tacuevas\\NCSU\\Research\\kalpana\\py3\\debugging\\outputs\\lines_subset_timevarying.shp'\n",
    "gdf = nc2shp(nc1File, var1, levels1, 'polyline', epsg, pathOut, subDomain = subDomain)"
   ]
  },
  {
   "cell_type": "markdown",
   "id": "e2818b4b",
   "metadata": {},
   "source": [
    "#### Time-constant"
   ]
  },
  {
   "cell_type": "code",
   "execution_count": 10,
   "id": "bc8e16f4",
   "metadata": {},
   "outputs": [
    {
     "name": "stderr",
     "output_type": "stream",
     "text": [
      "C:\\Users\\tacuevas\\AppData\\Roaming\\Python\\Python39\\site-packages\\geopandas\\io\\file.py:362: FutureWarning: pandas.Int64Index is deprecated and will be removed from pandas in a future version. Use pandas.Index with the appropriate dtype instead.\n",
      "  pd.Int64Index,\n"
     ]
    }
   ],
   "source": [
    "subDomain = r'C:\\Users\\tacuevas\\Documents\\GitHub\\kalpana_v2\\inputFiles\\subDomain.kml'\n",
    "pathOut = r'C:\\Users\\tacuevas\\NCSU\\Research\\kalpana\\py3\\debugging\\outputs\\lines_subset_timeconstant.shp'\n",
    "gdf = nc2shp(nc2File, var2, levels2, 'polyline', epsg, pathOut, subDomain = subDomain)"
   ]
  },
  {
   "cell_type": "markdown",
   "id": "850deb68",
   "metadata": {},
   "source": [
    "## Polygon"
   ]
  },
  {
   "cell_type": "markdown",
   "id": "f7321aca",
   "metadata": {},
   "source": [
    "### All Domain"
   ]
  },
  {
   "cell_type": "markdown",
   "id": "0681f6c2",
   "metadata": {},
   "source": [
    "#### Time-varying"
   ]
  },
  {
   "cell_type": "code",
   "execution_count": 7,
   "id": "cd89c1e6",
   "metadata": {},
   "outputs": [
    {
     "name": "stderr",
     "output_type": "stream",
     "text": [
      "100%|████████████████████████████████████████████████████████████████████████████████| 124/124 [09:54<00:00,  4.79s/it]\n",
      "C:\\Users\\tacuevas\\AppData\\Roaming\\Python\\Python39\\site-packages\\geopandas\\io\\file.py:362: FutureWarning: pandas.Int64Index is deprecated and will be removed from pandas in a future version. Use pandas.Index with the appropriate dtype instead.\n",
      "  pd.Int64Index,\n"
     ]
    }
   ],
   "source": [
    "pathOut = r'outShapefiles/polygon_allDomain_timevarying.shp'\n",
    "gdf = nc2shp(nc1File, var1, levels1, 'polygon', epsg, pathOut)"
   ]
  },
  {
   "cell_type": "markdown",
   "id": "ce6c7cc0",
   "metadata": {},
   "source": [
    "#### Time-constant"
   ]
  },
  {
   "cell_type": "code",
   "execution_count": 8,
   "id": "463c3747",
   "metadata": {},
   "outputs": [
    {
     "name": "stderr",
     "output_type": "stream",
     "text": [
      "C:\\Users\\tacuevas\\AppData\\Roaming\\Python\\Python39\\site-packages\\geopandas\\io\\file.py:362: FutureWarning: pandas.Int64Index is deprecated and will be removed from pandas in a future version. Use pandas.Index with the appropriate dtype instead.\n",
      "  pd.Int64Index,\n"
     ]
    }
   ],
   "source": [
    "pathOut = r'outShapefiles/polygon_allDomain_timeconstant.shp'\n",
    "gdf = nc2shp(nc2File, var2, levels2, 'polygon', epsg, pathOut)"
   ]
  },
  {
   "cell_type": "markdown",
   "id": "9e10bb33",
   "metadata": {},
   "source": [
    "### Subset"
   ]
  },
  {
   "cell_type": "markdown",
   "id": "a2dd0e18",
   "metadata": {},
   "source": [
    "#### Time-varying"
   ]
  },
  {
   "cell_type": "code",
   "execution_count": 9,
   "id": "12c2c080",
   "metadata": {},
   "outputs": [
    {
     "name": "stderr",
     "output_type": "stream",
     "text": [
      "100%|████████████████████████████████████████████████████████████████████████████████| 124/124 [10:09<00:00,  4.91s/it]\n",
      "C:\\Users\\tacuevas\\AppData\\Roaming\\Python\\Python39\\site-packages\\geopandas\\io\\file.py:362: FutureWarning: pandas.Int64Index is deprecated and will be removed from pandas in a future version. Use pandas.Index with the appropriate dtype instead.\n",
      "  pd.Int64Index,\n"
     ]
    }
   ],
   "source": [
    "subDomain = r'meshSubset/subDomain.kml'\n",
    "pathOut = r'outShapefiles/polygon_subset_timevarying.shp'\n",
    "gdf = nc2shp(nc1File, var1, levels1, 'polygon', epsg, pathOut, subDomain = subDomain)"
   ]
  },
  {
   "cell_type": "markdown",
   "id": "d13911f5",
   "metadata": {},
   "source": [
    "#### Time-constant"
   ]
  },
  {
   "cell_type": "code",
   "execution_count": 10,
   "id": "ac699a4c",
   "metadata": {},
   "outputs": [
    {
     "name": "stderr",
     "output_type": "stream",
     "text": [
      "C:\\Users\\tacuevas\\AppData\\Roaming\\Python\\Python39\\site-packages\\geopandas\\io\\file.py:362: FutureWarning: pandas.Int64Index is deprecated and will be removed from pandas in a future version. Use pandas.Index with the appropriate dtype instead.\n",
      "  pd.Int64Index,\n"
     ]
    }
   ],
   "source": [
    "subDomain = r'meshSubset/subDomain.kml'\n",
    "pathOut = r'outShapefiles/polygon_subset_timeconstant.shp'\n",
    "gdf = nc2shp(nc2File, var2, levels2, 'polygon', epsg, pathOut, subDomain = subDomain)"
   ]
  },
  {
   "cell_type": "code",
   "execution_count": null,
   "id": "d3394d21",
   "metadata": {},
   "outputs": [],
   "source": []
  }
 ],
 "metadata": {
  "kernelspec": {
   "display_name": "Python 3 (ipykernel)",
   "language": "python",
   "name": "python3"
  },
  "language_info": {
   "codemirror_mode": {
    "name": "ipython",
    "version": 3
   },
   "file_extension": ".py",
   "mimetype": "text/x-python",
   "name": "python",
   "nbconvert_exporter": "python",
   "pygments_lexer": "ipython3",
   "version": "3.9.5"
  },
  "varInspector": {
   "cols": {
    "lenName": 16,
    "lenType": 16,
    "lenVar": 40
   },
   "kernels_config": {
    "python": {
     "delete_cmd_postfix": "",
     "delete_cmd_prefix": "del ",
     "library": "var_list.py",
     "varRefreshCmd": "print(var_dic_list())"
    },
    "r": {
     "delete_cmd_postfix": ") ",
     "delete_cmd_prefix": "rm(",
     "library": "var_list.r",
     "varRefreshCmd": "cat(var_dic_list()) "
    }
   },
   "types_to_exclude": [
    "module",
    "function",
    "builtin_function_or_method",
    "instance",
    "_Feature"
   ],
   "window_display": false
  }
 },
 "nbformat": 4,
 "nbformat_minor": 5
}
