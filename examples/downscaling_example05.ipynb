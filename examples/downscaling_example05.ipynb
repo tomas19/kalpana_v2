{
 "cells": [
  {
   "cell_type": "code",
   "execution_count": 2,
   "metadata": {},
   "outputs": [],
   "source": [
    "import os\n",
    "from downscalingHeadLoss import *"
   ]
  },
  {
   "cell_type": "code",
   "execution_count": 5,
   "metadata": {},
   "outputs": [],
   "source": [
    "## full path of the maxele file to downscale\n",
    "ncFile = r\"../Docker/nonInteractive/inputs/maxele.63.nc\"\n",
    "\n",
    "## contour levels to use in the downscaling, from 0 to 11 (included) every 1levels = [0, 15, 1]\n",
    "epsgOut = 6543\n",
    "\n",
    "## output CRS\n",
    "vUnitOut = 'ft'\n",
    "\n",
    "## same path is used for saving rasters and the grass location\n",
    "pathOut = r'../Debug/headLoss02_NCdems15m_r1/Florence_headLoss_NCdems15m.shp'\n",
    "\n",
    "## version of grass 8.2 and 8.3 works\n",
    "grassVer = 8.2\n",
    "\n",
    "## path of the downscaling rasters\n",
    "pathRasFiles = r'../Debug/headLoss01_NCdems'\n",
    "\n",
    "## rasters filenames, can be a list if more than one. 'all' for importing ALL THE FILES in pathRasFiles \n",
    "rasterFiles = 'downscalingDEM_landClassCorr.tif'\n",
    "\n",
    "## full path of the precomputed raw cost raster\n",
    "rawCostRas = r'/home/tomas/Insync/tacuevas@ncsu.edu/Google Drive/NCSU/Kalpana/Debug/headLoss01_NCdems15m_r1/rawCostRaster_NCdems15m.tif'\n",
    "\n",
    "## full path of the precomputed total cost raster\n",
    "totalCostRas = r'/home/tomas/Insync/tacuevas@ncsu.edu/Google Drive/NCSU/Kalpana/Debug/headLoss01_NCdems15m_r1/totalCostRaster_NCdems15m.tif'\n",
    "\n",
    "## full path of the corrected downscaling DEM\n",
    "corrDownDEM = r'/home/tomas/Insync/tacuevas@ncsu.edu/Google Drive/NCSU/Kalpana/Debug/headLoss01_NCdems15m_r1/downscalingDemCorrManning.tif'\n",
    "\n",
    "## full path of file (kml, kmz, shp, gpkg or tif) to crop the domain.\n",
    "## in this case we will use the same downscaling raster bounding box as the subdomain\n",
    "subDomain = os.path.join(pathRasFiles, rasterFiles)\n",
    "\n",
    "## epsg code or crs of the subDomain. In this case, as we are using the downscaling dem bounding box\n",
    "## as the subdomain, the same epsg code must be specified.\n",
    "epsgSubDom = epsgOut"
   ]
  },
  {
   "cell_type": "code",
   "execution_count": 6,
   "metadata": {},
   "outputs": [
    {
     "name": "stderr",
     "output_type": "stream",
     "text": [
      "\u001b[32m2023-09-08 16:02:00.004\u001b[0m | \u001b[1mINFO    \u001b[0m | \u001b[36mexport\u001b[0m:\u001b[36mnc2shp\u001b[0m:\u001b[36m801\u001b[0m - \u001b[1mStart exporting adcirc to shape\u001b[0m\n",
      "\u001b[32m2023-09-08 16:02:00.946\u001b[0m | \u001b[1mINFO    \u001b[0m | \u001b[36mexport\u001b[0m:\u001b[36mfilledContours2gpd\u001b[0m:\u001b[36m312\u001b[0m - \u001b[1mBegin computing contours using Dask\u001b[0m\n",
      "\u001b[32m2023-09-08 16:02:03.122\u001b[0m | \u001b[1mINFO    \u001b[0m | \u001b[36mexport\u001b[0m:\u001b[36mfilledContours2gpd\u001b[0m:\u001b[36m314\u001b[0m - \u001b[1mFinnished computing contours using Dask\u001b[0m\n",
      "\u001b[32m2023-09-08 16:02:03.127\u001b[0m | \u001b[1mINFO    \u001b[0m | \u001b[36mexport\u001b[0m:\u001b[36mnc2shp\u001b[0m:\u001b[36m831\u001b[0m - \u001b[1m    Ready with the contours extraction: 0.052 min\u001b[0m\n",
      "\u001b[32m2023-09-08 16:02:03.775\u001b[0m | \u001b[1mINFO    \u001b[0m | \u001b[36mexport\u001b[0m:\u001b[36mnc2shp\u001b[0m:\u001b[36m839\u001b[0m - \u001b[1m    Cliping contours based on mask: 0.011 min\u001b[0m\n",
      "\u001b[32m2023-09-08 16:02:03.778\u001b[0m | \u001b[1mINFO    \u001b[0m | \u001b[36mexport\u001b[0m:\u001b[36mnc2shp\u001b[0m:\u001b[36m848\u001b[0m - \u001b[1m    Vertical units changed: 0.000 min\u001b[0m\n",
      "\u001b[32m2023-09-08 16:02:03.970\u001b[0m | \u001b[1mINFO    \u001b[0m | \u001b[36mexport\u001b[0m:\u001b[36mnc2shp\u001b[0m:\u001b[36m857\u001b[0m - \u001b[1m    Changing CRS: 0.003 min\u001b[0m\n",
      "\u001b[32m2023-09-08 16:02:05.776\u001b[0m | \u001b[1mINFO    \u001b[0m | \u001b[36mexport\u001b[0m:\u001b[36mnc2shp\u001b[0m:\u001b[36m868\u001b[0m - \u001b[1m    Saving file: 0.030 min\u001b[0m\n",
      "\u001b[32m2023-09-08 16:02:05.777\u001b[0m | \u001b[1mINFO    \u001b[0m | \u001b[36mexport\u001b[0m:\u001b[36mnc2shp\u001b[0m:\u001b[36m885\u001b[0m - \u001b[1mReady with exporting code after: 0.096 min\u001b[0m\n",
      "\u001b[32m2023-09-08 16:02:05.777\u001b[0m | \u001b[1mINFO    \u001b[0m | \u001b[36mdownscalingHeadLoss\u001b[0m:\u001b[36mrunHeadLoss\u001b[0m:\u001b[36m574\u001b[0m - \u001b[1mHead loss downscaling started\u001b[0m\n",
      "\u001b[32m2023-09-08 16:02:05.814\u001b[0m | \u001b[1mINFO    \u001b[0m | \u001b[36mdownscaling\u001b[0m:\u001b[36msetGrassEnv\u001b[0m:\u001b[36m337\u001b[0m - \u001b[1m        rasters to list:  0.000 min\u001b[0m\n",
      "\u001b[32m2023-09-08 16:02:06.008\u001b[0m | \u001b[1mINFO    \u001b[0m | \u001b[36mdownscaling\u001b[0m:\u001b[36msetGrassEnv\u001b[0m:\u001b[36m341\u001b[0m - \u001b[1m        create location:  0.003 min\u001b[0m\n",
      "\u001b[32m2023-09-08 16:02:06.009\u001b[0m | \u001b[1mINFO    \u001b[0m | \u001b[36mdownscaling\u001b[0m:\u001b[36msetGrassEnv\u001b[0m:\u001b[36m347\u001b[0m - \u001b[1m        init grass:  0.000 min\u001b[0m\n",
      "\u001b[32m2023-09-08 16:02:12.902\u001b[0m | \u001b[1mINFO    \u001b[0m | \u001b[36mdownscaling\u001b[0m:\u001b[36msetGrassEnv\u001b[0m:\u001b[36m352\u001b[0m - \u001b[1m        import raster:  0.115 min\u001b[0m\n",
      "\u001b[32m2023-09-08 16:02:12.971\u001b[0m | \u001b[1mINFO    \u001b[0m | \u001b[36mdownscaling\u001b[0m:\u001b[36msetGrassEnv\u001b[0m:\u001b[36m356\u001b[0m - \u001b[1m        set downscaling dem:  0.001 min\u001b[0m\n",
      "\u001b[32m2023-09-08 16:02:12.971\u001b[0m | \u001b[1mINFO    \u001b[0m | \u001b[36mdownscalingHeadLoss\u001b[0m:\u001b[36mrunHeadLoss\u001b[0m:\u001b[36m596\u001b[0m - \u001b[1m   Setup grass environment: 0.119 min\u001b[0m\n",
      "\u001b[32m2023-09-08 16:02:22.431\u001b[0m | \u001b[1mINFO    \u001b[0m | \u001b[36mdownscalingHeadLoss\u001b[0m:\u001b[36msetupHeadLoss\u001b[0m:\u001b[36m327\u001b[0m - \u001b[1m        Import kalpana shapefile: 0.16 min\u001b[0m\n",
      "\u001b[32m2023-09-08 16:02:26.769\u001b[0m | \u001b[1mINFO    \u001b[0m | \u001b[36mdownscalingHeadLoss\u001b[0m:\u001b[36msetupHeadLoss\u001b[0m:\u001b[36m333\u001b[0m - \u001b[1m        Kalpana shape to raster: 0.07 min\u001b[0m\n",
      "\u001b[32m2023-09-08 16:02:43.371\u001b[0m | \u001b[1mINFO    \u001b[0m | \u001b[36mdownscaling\u001b[0m:\u001b[36mimportRasters_parallel\u001b[0m:\u001b[36m247\u001b[0m - \u001b[1mBegin importing DEMs\u001b[0m\n",
      "\u001b[32m2023-09-08 16:03:17.090\u001b[0m | \u001b[1mINFO    \u001b[0m | \u001b[36mdownscaling\u001b[0m:\u001b[36mimportRasters_parallel\u001b[0m:\u001b[36m249\u001b[0m - \u001b[1mFinish importing DEMs\u001b[0m\n",
      "\u001b[32m2023-09-08 16:03:17.091\u001b[0m | \u001b[1mINFO    \u001b[0m | \u001b[36mdownscalingHeadLoss\u001b[0m:\u001b[36msetupHeadLoss\u001b[0m:\u001b[36m338\u001b[0m - \u001b[1m        Import cost rasters: 0.84 min\u001b[0m\n",
      "\u001b[32m2023-09-08 16:03:17.194\u001b[0m | \u001b[1mINFO    \u001b[0m | \u001b[36mdownscalingHeadLoss\u001b[0m:\u001b[36msetupHeadLoss\u001b[0m:\u001b[36m348\u001b[0m - \u001b[1m        Rename cost rasters: 0.00 min\u001b[0m\n",
      "\u001b[32m2023-09-08 16:03:42.095\u001b[0m | \u001b[1mINFO    \u001b[0m | \u001b[36mdownscalingHeadLoss\u001b[0m:\u001b[36msetupHeadLoss\u001b[0m:\u001b[36m354\u001b[0m - \u001b[1m        Update cost raster: 0.42 min\u001b[0m\n",
      "\u001b[32m2023-09-08 16:03:42.096\u001b[0m | \u001b[1mINFO    \u001b[0m | \u001b[36mdownscalingHeadLoss\u001b[0m:\u001b[36mrunHeadLoss\u001b[0m:\u001b[36m601\u001b[0m - \u001b[1m    Downscaling preprocess: 1.485 min\u001b[0m\n",
      "\u001b[32m2023-09-08 16:04:17.723\u001b[0m | \u001b[1mINFO    \u001b[0m | \u001b[36mdownscalingHeadLoss\u001b[0m:\u001b[36mheadLossGrow\u001b[0m:\u001b[36m389\u001b[0m - \u001b[1m        Grown ADCIRC raw raster: 0.59 min\u001b[0m\n",
      "\u001b[32m2023-09-08 16:04:29.163\u001b[0m | \u001b[1mINFO    \u001b[0m | \u001b[36mdownscalingHeadLoss\u001b[0m:\u001b[36mheadLossGrow\u001b[0m:\u001b[36m396\u001b[0m - \u001b[1m        Create cum raw cost within ADCIRC extent: 0.19 min\u001b[0m\n",
      "\u001b[32m2023-09-08 16:04:54.939\u001b[0m | \u001b[1mINFO    \u001b[0m | \u001b[36mdownscalingHeadLoss\u001b[0m:\u001b[36mheadLossGrow\u001b[0m:\u001b[36m402\u001b[0m - \u001b[1m        Grow ADCIRC raw raster: 0.43 min\u001b[0m\n",
      "\u001b[32m2023-09-08 16:05:29.618\u001b[0m | \u001b[1mINFO    \u001b[0m | \u001b[36mdownscalingHeadLoss\u001b[0m:\u001b[36mheadLossGrow\u001b[0m:\u001b[36m412\u001b[0m - \u001b[1m        Compare extrapolated ADCIRC to cost : 0.58 min\u001b[0m\n",
      "\u001b[32m2023-09-08 16:05:40.949\u001b[0m | \u001b[1mINFO    \u001b[0m | \u001b[36mdownscalingHeadLoss\u001b[0m:\u001b[36mheadLossGrow\u001b[0m:\u001b[36m435\u001b[0m - \u001b[1m        Combined raw ADCIRC with grown result : 0.19 min\u001b[0m\n",
      "\u001b[32m2023-09-08 16:05:40.949\u001b[0m | \u001b[1mINFO    \u001b[0m | \u001b[36mdownscalingHeadLoss\u001b[0m:\u001b[36mrunHeadLoss\u001b[0m:\u001b[36m606\u001b[0m - \u001b[1m    Running downscaling: 1.981 min\u001b[0m\n",
      "   0   3   6   9  12  15  18  21  24  27  30  33  36  39  42  45  48  51  54  57  60  63  66  69  72  75  78  81  84  87  90  93  96  99 100\n",
      "\u001b[32m2023-09-08 16:06:53.270\u001b[0m | \u001b[1mINFO    \u001b[0m | \u001b[36mdownscalingHeadLoss\u001b[0m:\u001b[36mpostProcessHeadLoss\u001b[0m:\u001b[36m463\u001b[0m - \u001b[1m        correcting hydraulic connectivity: 1.205 min\u001b[0m\n",
      "\u001b[32m2023-09-08 16:07:00.567\u001b[0m | \u001b[1mINFO    \u001b[0m | \u001b[36mdownscalingHeadLoss\u001b[0m:\u001b[36mpostProcessHeadLoss\u001b[0m:\u001b[36m472\u001b[0m - \u001b[1m        export as tif level: 0.122 min\u001b[0m\n",
      "\u001b[32m2023-09-08 16:07:00.568\u001b[0m | \u001b[1mINFO    \u001b[0m | \u001b[36mdownscalingHeadLoss\u001b[0m:\u001b[36mrunHeadLoss\u001b[0m:\u001b[36m611\u001b[0m - \u001b[1m    Downscaling postprocessing: 1.327 min\u001b[0m\n",
      "\u001b[32m2023-09-08 16:07:00.568\u001b[0m | \u001b[1mINFO    \u001b[0m | \u001b[36mdownscalingHeadLoss\u001b[0m:\u001b[36mrunHeadLoss\u001b[0m:\u001b[36m619\u001b[0m - \u001b[1mKalpana finished sucsesfully after: 5.009 min\u001b[0m\n",
      "\u001b[32m2023-09-08 16:07:00.568\u001b[0m | \u001b[1mINFO    \u001b[0m | \u001b[36mdownscalingHeadLoss\u001b[0m:\u001b[36mrunHeadLoss\u001b[0m:\u001b[36m620\u001b[0m - \u001b[1mOutput files saved on: ../Debug/headLoss02_NCdems15m_r1\u001b[0m\n"
     ]
    }
   ],
   "source": [
    "runHeadLoss(ncFile, levels, epsgOut, vUnitOut, pathOut, grassVer, pathRasFiles, rasterFiles,\n",
    "            rawCostRas, totalCostRas, corrDownDEM, epsgIn=4326, vUnitIn='m', var='zeta_max', conType ='polygon', \n",
    "            subDomain=subDomain, epsgSubDom=epsgSubDom, dzFile=None, zeroDif=-20, distThreshold=1, k=7,\n",
    "            exagVal=1, nameGrassLocation=None, createGrassLocation=True, createLocMethod='from_raster', \n",
    "            attrCol='zMean', floodDepth=False, ras2vec=False, exportOrg=False, leveesFile = None, finalOutToLatLon=False)"
   ]
  },
  {
   "cell_type": "code",
   "execution_count": null,
   "metadata": {},
   "outputs": [],
   "source": []
  }
 ],
 "metadata": {
  "kernelspec": {
   "display_name": "grassEnv",
   "language": "python",
   "name": "python3"
  },
  "language_info": {
   "codemirror_mode": {
    "name": "ipython",
    "version": 3
   },
   "file_extension": ".py",
   "mimetype": "text/x-python",
   "name": "python",
   "nbconvert_exporter": "python",
   "pygments_lexer": "ipython3",
   "version": "3.11.0"
  },
  "orig_nbformat": 4
 },
 "nbformat": 4,
 "nbformat_minor": 2
}
