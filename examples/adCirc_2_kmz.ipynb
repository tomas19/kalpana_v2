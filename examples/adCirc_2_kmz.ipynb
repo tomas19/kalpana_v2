{
 "cells": [
  {
   "cell_type": "code",
   "execution_count": 10,
   "id": "5f4c9e3a",
   "metadata": {},
   "outputs": [],
   "source": [
    "### python modules\n",
    "import sys\n",
    "## github repository path, you will need to change this line\n",
    "sys.path.append(r'C:\\Users\\tacuevas\\Documents\\GitHub\\kalpana_v2\\code')\n",
    "from kalpanaExport import nc2kmz"
   ]
  },
  {
   "cell_type": "markdown",
   "id": "4122d9cb",
   "metadata": {},
   "source": [
    "# Inputs"
   ]
  },
  {
   "cell_type": "code",
   "execution_count": 2,
   "id": "7c68dda9",
   "metadata": {},
   "outputs": [],
   "source": [
    "## path of the adcirc output, in this case the file is time-varying\n",
    "nc1File = r'../Florence/swan_HS.63.nc'\n",
    "## name of the variable to analize\n",
    "var1 = 'swan_HS'\n",
    "## contours to extract\n",
    "levels1 = [0.0, 5.5, 0.5] ## start, stop and step. stop not included\n",
    "\n",
    "## idem above but in this case the file has only one timestep\n",
    "nc2File = r'C:\\Users\\tacuevas\\Documents\\GitHub\\Kalpana\\maxele.63.nc'\n",
    "var2 = 'zeta_max'\n",
    "levels2 = [0., 4.5, 0.5]\n",
    "\n",
    "## coordinate system of the adcirc file\n",
    "epsg = 4326\n",
    "\n",
    "## logo file path\n",
    "logo = r'C:\\Users\\tacuevas\\Documents\\GitHub\\kalpana_v2\\documentation\\logo\\logo.png'"
   ]
  },
  {
   "cell_type": "markdown",
   "id": "7a1c1050",
   "metadata": {},
   "source": [
    "# Examples"
   ]
  },
  {
   "cell_type": "markdown",
   "id": "f5e70eee",
   "metadata": {},
   "source": [
    "This notebook comprise 5 examples. SWAN significant wave height and ADCIRC maximum water elevation outputs are exported as kmz in both, polyline and polygon formats."
   ]
  },
  {
   "cell_type": "markdown",
   "id": "c16873b6",
   "metadata": {},
   "source": [
    "## Lines"
   ]
  },
  {
   "cell_type": "markdown",
   "id": "eac0255b",
   "metadata": {},
   "source": [
    "### All Domain"
   ]
  },
  {
   "cell_type": "markdown",
   "id": "a3285503",
   "metadata": {},
   "source": [
    "#### Time-varying file"
   ]
  },
  {
   "cell_type": "code",
   "execution_count": 3,
   "id": "d7c97e94",
   "metadata": {},
   "outputs": [
    {
     "name": "stdout",
     "output_type": "stream",
     "text": [
      "Time-varying files can not be exported as kmz!\n"
     ]
    },
    {
     "ename": "SystemExit",
     "evalue": "-1",
     "output_type": "error",
     "traceback": [
      "An exception has occurred, use %tb to see the full traceback.\n",
      "\u001b[1;31mSystemExit\u001b[0m\u001b[1;31m:\u001b[0m -1\n"
     ]
    },
    {
     "name": "stderr",
     "output_type": "stream",
     "text": [
      "C:\\Users\\tacuevas\\AppData\\Roaming\\Python\\Python39\\site-packages\\IPython\\core\\interactiveshell.py:3259: UserWarning: To exit: use 'exit', 'quit', or Ctrl-D.\n",
      "  warn(\"To exit: use 'exit', 'quit', or Ctrl-D.\", stacklevel=1)\n"
     ]
    }
   ],
   "source": [
    "# this should ends in an error, time-varying files can not be exported as kmz\n",
    "pathOut = r'outKmz/lines_allDomain_timevarying.kmz'\n",
    "gdf = nc2kmz(nc1File, var1, levels1, 'polyline', epsg, pathOut, logo)"
   ]
  },
  {
   "cell_type": "markdown",
   "id": "6e79389f",
   "metadata": {},
   "source": [
    "#### Time-constant"
   ]
  },
  {
   "cell_type": "code",
   "execution_count": 4,
   "id": "8aec750a",
   "metadata": {},
   "outputs": [
    {
     "name": "stderr",
     "output_type": "stream",
     "text": [
      "100%|██████████████████████████████████████████████████████████████████████████████| 265/265 [00:00<00:00, 1628.99it/s]\n"
     ]
    }
   ],
   "source": [
    "pathOut = r'outKmz/lines_allDomain_timeconstant.kmz'\n",
    "gdf = nc2kmz(nc2File, var2, levels2, 'polyline', epsg, pathOut, logoPath=logo)"
   ]
  },
  {
   "cell_type": "markdown",
   "id": "22df26e5",
   "metadata": {},
   "source": [
    "### Subset"
   ]
  },
  {
   "cell_type": "markdown",
   "id": "e2818b4b",
   "metadata": {},
   "source": [
    "#### Time-constant"
   ]
  },
  {
   "cell_type": "code",
   "execution_count": 5,
   "id": "bc8e16f4",
   "metadata": {},
   "outputs": [
    {
     "name": "stderr",
     "output_type": "stream",
     "text": [
      "100%|██████████████████████████████████████████████████████████████████████████████| 116/116 [00:00<00:00, 1940.17it/s]\n"
     ]
    }
   ],
   "source": [
    "subDomain = r'meshSubset/subDomain.kml'\n",
    "pathOut = r'outKmz/lines_subset_timeconstant.kmz'\n",
    "gdf = nc2kmz(nc2File, var2, levels2, 'polyline', epsg, pathOut, \n",
    "             subDomain = subDomain, logoPath = logo)"
   ]
  },
  {
   "cell_type": "markdown",
   "id": "850deb68",
   "metadata": {},
   "source": [
    "## Polygon"
   ]
  },
  {
   "cell_type": "markdown",
   "id": "f7321aca",
   "metadata": {},
   "source": [
    "### All Domain"
   ]
  },
  {
   "cell_type": "markdown",
   "id": "ce6c7cc0",
   "metadata": {},
   "source": [
    "#### Time-constant"
   ]
  },
  {
   "cell_type": "code",
   "execution_count": 6,
   "id": "463c3747",
   "metadata": {},
   "outputs": [
    {
     "name": "stderr",
     "output_type": "stream",
     "text": [
      "100%|███████████████████████████████████████████████████████████████████████████████| 223/223 [00:00<00:00, 488.39it/s]\n"
     ]
    }
   ],
   "source": [
    "pathOut = r'outKmz/polygon_allDomain_timeconstant.kmz'\n",
    "gdf = nc2kmz(nc2File, var2, levels2, 'polygon', epsg, pathOut, logoPath=logo)"
   ]
  },
  {
   "cell_type": "markdown",
   "id": "9e10bb33",
   "metadata": {},
   "source": [
    "### Subset"
   ]
  },
  {
   "cell_type": "markdown",
   "id": "d13911f5",
   "metadata": {},
   "source": [
    "#### Time-constant"
   ]
  },
  {
   "cell_type": "code",
   "execution_count": 7,
   "id": "ac699a4c",
   "metadata": {},
   "outputs": [
    {
     "name": "stderr",
     "output_type": "stream",
     "text": [
      "100%|█████████████████████████████████████████████████████████████████████████████████| 96/96 [00:00<00:00, 469.04it/s]\n"
     ]
    }
   ],
   "source": [
    "subDomain = r'meshSubset/subDomain.kml'\n",
    "pathOut = r'outKmz/polygon_subset_timeconstant.kmz'\n",
    "gdf = nc2kmz(nc2File, var2, levels2, 'polygon', epsg, pathOut, \n",
    "             subDomain = subDomain, logoPath = logo)"
   ]
  },
  {
   "cell_type": "code",
   "execution_count": null,
   "id": "d3394d21",
   "metadata": {},
   "outputs": [],
   "source": []
  }
 ],
 "metadata": {
  "kernelspec": {
   "display_name": "Python 3 (ipykernel)",
   "language": "python",
   "name": "python3"
  },
  "language_info": {
   "codemirror_mode": {
    "name": "ipython",
    "version": 3
   },
   "file_extension": ".py",
   "mimetype": "text/x-python",
   "name": "python",
   "nbconvert_exporter": "python",
   "pygments_lexer": "ipython3",
   "version": "3.9.5"
  },
  "varInspector": {
   "cols": {
    "lenName": 16,
    "lenType": 16,
    "lenVar": 40
   },
   "kernels_config": {
    "python": {
     "delete_cmd_postfix": "",
     "delete_cmd_prefix": "del ",
     "library": "var_list.py",
     "varRefreshCmd": "print(var_dic_list())"
    },
    "r": {
     "delete_cmd_postfix": ") ",
     "delete_cmd_prefix": "rm(",
     "library": "var_list.r",
     "varRefreshCmd": "cat(var_dic_list()) "
    }
   },
   "types_to_exclude": [
    "module",
    "function",
    "builtin_function_or_method",
    "instance",
    "_Feature"
   ],
   "window_display": false
  }
 },
 "nbformat": 4,
 "nbformat_minor": 5
}
